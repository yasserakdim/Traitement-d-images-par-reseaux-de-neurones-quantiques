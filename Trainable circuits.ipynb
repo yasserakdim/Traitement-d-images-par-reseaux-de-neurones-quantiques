{
 "cells": [
  {
   "cell_type": "markdown",
   "id": "594faf03",
   "metadata": {},
   "source": [
    "## IMPORTS"
   ]
  },
  {
   "cell_type": "code",
   "execution_count": 18,
   "id": "eeb91362",
   "metadata": {},
   "outputs": [],
   "source": [
    "import time\n",
    "import numpy as np\n",
    "import matplotlib.pyplot as plt\n",
    "%matplotlib inline\n",
    "\n",
    "import torch\n",
    "from torch.autograd import Function\n",
    "from torchvision import datasets, transforms\n",
    "import torch.optim as optim\n",
    "import torch.nn as nn\n",
    "import torch.nn.functional as F\n",
    "\n",
    "import qiskit\n",
    "from qiskit import *\n",
    "from qiskit.visualization import *\n",
    "from qiskit.circuit.random import random_circuit\n",
    "from qiskit import assemble, transpile\n",
    "from torchsummary import summary\n",
    "\n",
    "from itertools import combinations\n",
    "DEVICE = torch.device('cpu')"
   ]
  },
  {
   "cell_type": "markdown",
   "id": "d028487e",
   "metadata": {},
   "source": [
    "## DATA"
   ]
  },
  {
   "cell_type": "code",
   "execution_count": 19,
   "id": "23805110",
   "metadata": {},
   "outputs": [],
   "source": [
    "n_train = 30   \n",
    "n_test = 100 \n",
    "\n",
    "train_dataset = datasets.MNIST(root = \"./data\",\n",
    "                               train = True,\n",
    "                               download = True,\n",
    "                               transform = transforms.ToTensor())\n",
    "idx = np.append(np.where(train_dataset.targets == 0)[0][:n_train], \n",
    "                np.where(train_dataset.targets == 1)[0][:n_train])\n",
    "\n",
    "for i in range(2, 10):\n",
    "    idx = np.append(idx, np.where(train_dataset.targets == i)[0][:n_train])\n",
    "    \n",
    "train_dataset.data    = train_dataset.data[idx]\n",
    "train_dataset.targets = train_dataset.targets[idx]\n",
    "\n",
    "test_dataset = datasets.MNIST(root = \"./data\",\n",
    "                              train = False,\n",
    "                              transform = transforms.ToTensor())\n",
    "\n",
    "idx = np.append(np.where(test_dataset.targets == 0)[0][:n_test], \n",
    "                np.where(test_dataset.targets == 1)[0][:n_test])\n",
    "\n",
    "for i in range(2, 10):\n",
    "    idx = np.append(idx, np.where(test_dataset.targets == i)[0][:n_test])\n",
    "    \n",
    "test_dataset.data    = test_dataset.data[idx]\n",
    "test_dataset.targets = test_dataset.targets[idx]\n",
    "\n",
    "BATCH_SIZE = 5\n",
    "\n",
    "train_loader = torch.utils.data.DataLoader(dataset = train_dataset,\n",
    "                                           batch_size = BATCH_SIZE,\n",
    "                                           shuffle = True)\n",
    "test_loader = torch.utils.data.DataLoader(dataset = test_dataset,\n",
    "                                          batch_size = BATCH_SIZE,\n",
    "                                          shuffle = False)"
   ]
  },
  {
   "cell_type": "markdown",
   "id": "6f2d1dd4",
   "metadata": {},
   "source": [
    "## TRAINING FUNCTION"
   ]
  },
  {
   "cell_type": "code",
   "execution_count": 20,
   "id": "c52e3188",
   "metadata": {},
   "outputs": [],
   "source": [
    "def train(model, optimizer, loss_fn, train_dl, val_dl, epochs=10, device='cpu'):\n",
    "\n",
    "    print('train() called: model=%s, opt=%s(lr=%f), epochs=%d, device=%s\\n' % \\\n",
    "          (type(model).__name__, type(optimizer).__name__,\n",
    "           optimizer.param_groups[0]['lr'], epochs, device))\n",
    "\n",
    "    history = {} # Collects per-epoch loss and acc like Keras' fit().\n",
    "    history['loss'] = []\n",
    "    history['val_loss'] = []\n",
    "    history['acc'] = []\n",
    "    history['val_acc'] = []\n",
    "\n",
    "    start_time_sec = time.time()\n",
    "\n",
    "    for epoch in range(1, epochs+1):\n",
    "\n",
    "        # --- TRAIN AND EVALUATE ON TRAINING SET -----------------------------\n",
    "        model.train()\n",
    "        train_loss         = 0.0\n",
    "        num_train_correct  = 0\n",
    "        num_train_examples = 0\n",
    "\n",
    "        for batch in train_dl:\n",
    "\n",
    "            optimizer.zero_grad()\n",
    "\n",
    "            x    = batch[0].to(device)\n",
    "            y    = batch[1].to(device)\n",
    "            yhat = model(x)\n",
    "            loss = loss_fn(yhat, y)\n",
    "\n",
    "            loss.backward()\n",
    "            optimizer.step()\n",
    "\n",
    "            train_loss         += loss.data.item() * x.size(0)\n",
    "            num_train_correct  += (torch.max(yhat, 1)[1] == y).sum().item()\n",
    "            num_train_examples += x.shape[0]\n",
    "\n",
    "        train_acc   = num_train_correct / num_train_examples\n",
    "        train_loss  = train_loss / len(train_dl.dataset)\n",
    "\n",
    "\n",
    "        # --- EVALUATE ON VALIDATION SET -------------------------------------\n",
    "        model.eval()\n",
    "        val_loss       = 0.0\n",
    "        num_val_correct  = 0\n",
    "        num_val_examples = 0\n",
    "\n",
    "        for batch in val_dl:\n",
    "\n",
    "            x    = batch[0].to(device)\n",
    "            y    = batch[1].to(device)\n",
    "            yhat = model(x)\n",
    "            loss = loss_fn(yhat, y)\n",
    "\n",
    "            val_loss         += loss.data.item() * x.size(0)\n",
    "            num_val_correct  += (torch.max(yhat, 1)[1] == y).sum().item()\n",
    "            num_val_examples += y.shape[0]\n",
    "\n",
    "        val_acc  = num_val_correct / num_val_examples\n",
    "        val_loss = val_loss / len(val_dl.dataset)\n",
    "\n",
    "\n",
    "        print('Epoch %3d/%3d, train loss: %5.2f, train acc: %5.2f, val loss: %5.2f, val acc: %5.2f' % \\\n",
    "              (epoch, epochs, train_loss, train_acc, val_loss, val_acc))\n",
    "\n",
    "        history['loss'].append(train_loss)\n",
    "        history['val_loss'].append(val_loss)\n",
    "        history['acc'].append(train_acc)\n",
    "        history['val_acc'].append(val_acc)\n",
    "\n",
    "    # END OF TRAINING LOOP\n",
    "\n",
    "\n",
    "    end_time_sec       = time.time()\n",
    "    total_time_sec     = end_time_sec - start_time_sec\n",
    "    time_per_epoch_sec = total_time_sec / epochs\n",
    "    print()\n",
    "    print('Time total:     %5.2f sec' % (total_time_sec))\n",
    "    print('Time per epoch: %5.2f sec' % (time_per_epoch_sec))\n",
    "\n",
    "    return history\n"
   ]
  },
  {
   "cell_type": "markdown",
   "id": "6c6bd0d6",
   "metadata": {},
   "source": [
    "## CLASSICAL MODEL"
   ]
  },
  {
   "cell_type": "code",
   "execution_count": 21,
   "id": "d7f73e9e",
   "metadata": {},
   "outputs": [],
   "source": [
    "class Net(nn.Module):\n",
    "    def __init__(self):\n",
    "        super(Net, self).__init__()\n",
    "        \n",
    "        self.conv1 = nn.Conv2d(1, 1, kernel_size=2)\n",
    "        self.conv2 = nn.Conv2d(1, 10, kernel_size=5)\n",
    "        self.dropout = nn.Dropout2d()\n",
    "        self.fc1 = nn.Linear(160, 64)\n",
    "        self.fc2 = nn.Linear(64, 10)\n",
    "\n",
    "    def forward(self, x):\n",
    "        x = F.relu(self.conv1(x))\n",
    "        x = F.max_pool2d(x, 2)\n",
    "        x = F.relu(self.conv2(x))\n",
    "        x = F.max_pool2d(x, 2)\n",
    "        x = self.dropout(x)\n",
    "        x = torch.flatten(x, start_dim=1)\n",
    "        x = F.relu(self.fc1(x))\n",
    "        x = self.fc2(x)\n",
    "        return F.log_softmax(x, dim=-1)\n",
    "model1 = Net()\n",
    "optimizer  = optim.Adam(model1.parameters(), lr=0.001)\n",
    "loss_fn  = nn.CrossEntropyLoss()"
   ]
  },
  {
   "cell_type": "markdown",
   "id": "0491a24c",
   "metadata": {},
   "source": [
    "## TRAINING & PERFORMANCE"
   ]
  },
  {
   "cell_type": "code",
   "execution_count": 22,
   "id": "4770f7aa",
   "metadata": {},
   "outputs": [
    {
     "name": "stdout",
     "output_type": "stream",
     "text": [
      "train() called: model=Net, opt=Adam(lr=0.001000), epochs=30, device=cpu\n",
      "\n",
      "Epoch   1/ 30, train loss:  2.31, train acc:  0.08, val loss:  2.30, val acc:  0.10\n",
      "Epoch   2/ 30, train loss:  2.30, train acc:  0.10, val loss:  2.30, val acc:  0.10\n",
      "Epoch   3/ 30, train loss:  2.29, train acc:  0.10, val loss:  2.27, val acc:  0.18\n",
      "Epoch   4/ 30, train loss:  2.24, train acc:  0.23, val loss:  2.19, val acc:  0.30\n",
      "Epoch   5/ 30, train loss:  2.09, train acc:  0.31, val loss:  1.98, val acc:  0.48\n",
      "Epoch   6/ 30, train loss:  1.75, train acc:  0.49, val loss:  1.64, val acc:  0.47\n",
      "Epoch   7/ 30, train loss:  1.40, train acc:  0.61, val loss:  1.35, val acc:  0.58\n",
      "Epoch   8/ 30, train loss:  1.22, train acc:  0.65, val loss:  1.25, val acc:  0.64\n",
      "Epoch   9/ 30, train loss:  1.13, train acc:  0.67, val loss:  1.17, val acc:  0.68\n",
      "Epoch  10/ 30, train loss:  0.90, train acc:  0.77, val loss:  1.11, val acc:  0.67\n",
      "Epoch  11/ 30, train loss:  0.80, train acc:  0.80, val loss:  1.03, val acc:  0.70\n",
      "Epoch  12/ 30, train loss:  0.78, train acc:  0.80, val loss:  0.99, val acc:  0.70\n",
      "Epoch  13/ 30, train loss:  0.69, train acc:  0.82, val loss:  0.91, val acc:  0.73\n",
      "Epoch  14/ 30, train loss:  0.62, train acc:  0.83, val loss:  0.89, val acc:  0.73\n",
      "Epoch  15/ 30, train loss:  0.64, train acc:  0.82, val loss:  0.80, val acc:  0.76\n",
      "Epoch  16/ 30, train loss:  0.54, train acc:  0.85, val loss:  0.82, val acc:  0.76\n",
      "Epoch  17/ 30, train loss:  0.50, train acc:  0.87, val loss:  0.80, val acc:  0.76\n",
      "Epoch  18/ 30, train loss:  0.50, train acc:  0.84, val loss:  0.78, val acc:  0.76\n",
      "Epoch  19/ 30, train loss:  0.43, train acc:  0.86, val loss:  0.73, val acc:  0.77\n",
      "Epoch  20/ 30, train loss:  0.43, train acc:  0.89, val loss:  0.68, val acc:  0.80\n",
      "Epoch  21/ 30, train loss:  0.36, train acc:  0.89, val loss:  0.78, val acc:  0.77\n",
      "Epoch  22/ 30, train loss:  0.29, train acc:  0.89, val loss:  0.70, val acc:  0.79\n",
      "Epoch  23/ 30, train loss:  0.34, train acc:  0.89, val loss:  0.73, val acc:  0.79\n",
      "Epoch  24/ 30, train loss:  0.27, train acc:  0.92, val loss:  0.74, val acc:  0.79\n",
      "Epoch  25/ 30, train loss:  0.37, train acc:  0.89, val loss:  0.72, val acc:  0.79\n",
      "Epoch  26/ 30, train loss:  0.27, train acc:  0.91, val loss:  0.68, val acc:  0.80\n",
      "Epoch  27/ 30, train loss:  0.30, train acc:  0.88, val loss:  0.66, val acc:  0.80\n",
      "Epoch  28/ 30, train loss:  0.24, train acc:  0.94, val loss:  0.72, val acc:  0.80\n",
      "Epoch  29/ 30, train loss:  0.25, train acc:  0.90, val loss:  0.67, val acc:  0.81\n",
      "Epoch  30/ 30, train loss:  0.20, train acc:  0.95, val loss:  0.69, val acc:  0.81\n",
      "\n",
      "Time total:      9.65 sec\n",
      "Time per epoch:  0.32 sec\n"
     ]
    }
   ],
   "source": [
    "history1 = train(\n",
    "    model = model1,\n",
    "    optimizer = optimizer,\n",
    "    loss_fn = loss_fn,\n",
    "    train_dl = train_loader,\n",
    "    val_dl = test_loader,\n",
    "    epochs=30)"
   ]
  },
  {
   "cell_type": "code",
   "execution_count": 65,
   "id": "0910592f",
   "metadata": {},
   "outputs": [
    {
     "data": {
      "image/png": "[encoded data removed]",
      "text/plain": [
       "<Figure size 432x288 with 1 Axes>"
      ]
     },
     "metadata": {
      "needs_background": "light"
     },
     "output_type": "display_data"
    },
    {
     "data": {
      "image/png": "[encoded data removed]",
      "text/plain": [
       "<Figure size 432x288 with 1 Axes>"
      ]
     },
     "metadata": {
      "needs_background": "light"
     },
     "output_type": "display_data"
    }
   ],
   "source": [
    "acc = history1['acc']\n",
    "val_acc = history1['val_acc']\n",
    "loss = history1['loss']\n",
    "val_loss = history1['val_loss']\n",
    "epochs = range(1, len(acc) + 1)\n",
    "\n",
    "plt.plot(epochs, acc, 'b', label='Training acc')\n",
    "plt.plot(epochs, val_acc, 'r', label='Test acc')\n",
    "plt.title('Training and Test accuracy')\n",
    "plt.legend()\n",
    "plt.figure()\n",
    "plt.plot(epochs, loss, 'b', label='Training loss')\n",
    "plt.plot(epochs, val_loss, 'r', label='Test loss')\n",
    "plt.title('Training and Test loss')\n",
    "plt.legend()\n",
    "plt.show()"
   ]
  },
  {
   "cell_type": "markdown",
   "id": "fa797127",
   "metadata": {},
   "source": [
    "## TRAINABLE CIRCUIT"
   ]
  },
  {
   "cell_type": "code",
   "execution_count": 50,
   "id": "c8175a60",
   "metadata": {},
   "outputs": [
    {
     "data": {
      "image/png": "[encoded data removed]",
      "text/plain": [
       "<Figure size 1140.28x325.08 with 1 Axes>"
      ]
     },
     "execution_count": 50,
     "metadata": {},
     "output_type": "execute_result"
    }
   ],
   "source": [
    "class QuanvCircuit:\n",
    "    \"\"\" \n",
    "    This class defines filter circuit of Quanvolution layer\n",
    "    \"\"\"\n",
    "    \n",
    "    def __init__(self, kernel_size, backend, par, result = dict()):\n",
    "        # --- Circuit definition start ---\n",
    "        \n",
    "        self.n_qubits = kernel_size ** 2\n",
    "        all_qubits = [i for i in range(self.n_qubits)]\n",
    "        self._circuit = qiskit.QuantumCircuit(self.n_qubits)\n",
    "        self.theta = [qiskit.circuit.Parameter('theta{}'.format(i)) for i in range(self.n_qubits)]\n",
    "        self.beta = [qiskit.circuit.Parameter('beta{}'.format(i)) for i in range(3)]\n",
    "        self.par = par\n",
    "        for i in range(self.n_qubits):\n",
    "            self._circuit.rx(self.theta[i], i)\n",
    "\n",
    "        self._circuit.barrier()\n",
    "\n",
    "        self._circuit.cry(self.beta[0], 0, 1)\n",
    "        self._circuit.cry(self.beta[1], 3, 2)\n",
    "        self._circuit.cry(self.beta[2], 1, 2)\n",
    "\n",
    "            \n",
    "        self._circuit = transpile(self._circuit, backend)\n",
    "        self._circuit.measure_all()\n",
    "        \n",
    "        # ---- Circuit definition end ----\n",
    "\n",
    "        self.backend   = backend\n",
    "        self.result = result\n",
    "    \n",
    "    def update(self, par):\n",
    "        L = [[a*np.pi,b*np.pi,c*np.pi,d*np.pi] for a in range(2) for b in range(2) for c in range(2) for d in range(2)]\n",
    "        t = dict()\n",
    "        for l in L:\n",
    "            dic_theta = {self.theta[i]: theta for i,theta in zip(range(len(l)), l)}\n",
    "            v = list(par)\n",
    "            dic_beta = {self.beta[i]: beta for i,beta in zip(range(len(v)), v)}\n",
    "            dic_fusion = dict((key, value) for d in (dic_theta, dic_beta) for key, value in d.items())\n",
    "            para = [dic_fusion]\n",
    "            qobj = assemble(self._circuit, shots=100, parameter_binds = para)\n",
    "            job = self.backend.run(qobj)\n",
    "            result = job.result()\n",
    "            counts = result.get_counts()\n",
    "            i=np.argmax(list(counts.values()))\n",
    "            t[str(l)] = sum([int(m) for m in list(counts.keys())[i]])\n",
    "        self.result = t  \n",
    "        return self\n",
    "    \n",
    "    def copy(self):\n",
    "        q = QuanvCircuit(int(np.sqrt(self.n_qubits)), self.backend, self.par.clone(), self.result)\n",
    "        return q\n",
    "    \n",
    "    \n",
    "    def encoding(self, zone):\n",
    "        thetas = []\n",
    "        for pixel in zone[0]:\n",
    "            if pixel.item() > 0.5:\n",
    "                thetas.append(np.pi) # etat |1>, on initialise theta à pi                      \n",
    "            else:                    # pour faire une rotation d'angle pi de l'etat |0>\n",
    "                thetas.append(0.0)     # etat |0>, on initialise theta à 0 (rester à l'etat |0>)\n",
    "        return thetas\n",
    "\n",
    "\n",
    "    def run(self, zone):\n",
    "        zone = torch.reshape(zone, (1, self.n_qubits))\n",
    "        init = str(self.encoding(zone))\n",
    "        result = self.result[init]\n",
    "        return result\n",
    "circuit = QuanvCircuit(2, Aer.get_backend('aer_simulator'),[]) \n",
    "circuit._circuit.draw(output='mpl')\n"
   ]
  },
  {
   "cell_type": "code",
   "execution_count": 66,
   "id": "c210b93c",
   "metadata": {},
   "outputs": [],
   "source": [
    "def execute(inputs, quantum_circuits, width, length, l, kernel_size):\n",
    "    outputs = torch.zeros((len(inputs), len(quantum_circuits), width, length))\n",
    "    for i in range(len(inputs)):\n",
    "        input = inputs[i]\n",
    "        for c in range(len(quantum_circuits)):\n",
    "            circuit = (quantum_circuits[c]).copy()\n",
    "            circuit = circuit.update(l)\n",
    "            for h in range(length):\n",
    "                for w in range(width):\n",
    "                    data = input[0, h:h+kernel_size, w:w+kernel_size]\n",
    "                    outputs[i, c, h, w] = circuit.run(data)\n",
    "    return outputs\n",
    "\n",
    "class QuanvFunction(Function):\n",
    "    \"\"\" Quanv function definition \"\"\"\n",
    "    @staticmethod\n",
    "    def forward(ctx, inputs, params, kernel_size, quantum_circuits, shift):\n",
    "        \"\"\" Forward pass computation \"\"\"\n",
    "        ctx.kernel_size      = kernel_size\n",
    "        ctx.quantum_circuits = quantum_circuits\n",
    "        ctx.shift            = shift\n",
    "        l = params\n",
    "        l = [l[i].item() for i in range(len(list(l)))]\n",
    "        for c in range(len(quantum_circuits)):\n",
    "            ctx.quantum_circuits[c].update(l)\n",
    "        \n",
    "        width, length = inputs[0][0].size()\n",
    "        width = width - kernel_size + 1\n",
    "        length = length - kernel_size + 1\n",
    "        outputs = torch.zeros((len(inputs), len(quantum_circuits), width, length))\n",
    "        for i in range(len(inputs)):\n",
    "            input = inputs[i]\n",
    "            for c in range(len(quantum_circuits)):\n",
    "                circuit = quantum_circuits[c]\n",
    "                for h in range(length):\n",
    "                    for w in range(width):\n",
    "                        data = input[0, h:h+kernel_size, w:w+kernel_size]\n",
    "                        outputs[i, c, h, w] = circuit.run(data)\n",
    "        ctx.save_for_backward(inputs, params)\n",
    "        return outputs\n",
    "    \n",
    "    @staticmethod\n",
    "    def backward(ctx, grad_output):\n",
    "        inputs, params = ctx.saved_tensors\n",
    "        width, length = inputs[0][0].size()\n",
    "        width = width - ctx.kernel_size + 1\n",
    "        length = length - ctx.kernel_size + 1\n",
    "        g = grad_output.reshape(1, -1)\n",
    "        grb = torch.Tensor()\n",
    "        l = [list(params)[i].item() for i in range(len(list(params)))]\n",
    "        for k in range(len(l)):\n",
    "            shift_right = l.copy()\n",
    "            shift_right[k] += np.pi/4\n",
    "            shift_left = l.copy()\n",
    "            shift_left[k]  -= np.pi/4\n",
    "            expectation_right = execute(inputs, ctx.quantum_circuits, width, length, shift_right, ctx.kernel_size)\n",
    "            expectation_left = execute(inputs, ctx.quantum_circuits, width, length, shift_left, ctx.kernel_size)\n",
    "            gradient = (expectation_right - expectation_left).reshape(-1, 1)\n",
    "            grb = torch.cat((grb, (g.float() @ gradient.float()).reshape(1)))\n",
    "        return None, grb, None, None, None\n",
    "    \n",
    "\n",
    "class Quanv(nn.Module):\n",
    "    \"\"\" Quanvolution(Quantum convolution) layer definition \"\"\"\n",
    "    \n",
    "    def __init__(self, nb_filters, kernel_size, backend =qiskit.Aer.get_backend('aer_simulator'), shift=np.pi/2):\n",
    "        super(Quanv, self).__init__()\n",
    "        self.par = nn.Parameter(torch.randn(3), requires_grad=True)\n",
    "        self.quantum_circuits = [QuanvCircuit(kernel_size=kernel_size, backend=backend, par=self.par) for i in range(nb_filters)]\n",
    "        self.kernel_size  = kernel_size\n",
    "        self.shift        = shift\n",
    "        \n",
    "        \n",
    "    def forward(self, inputs):\n",
    "        return QuanvFunction.apply(inputs, self.par, self.kernel_size, self.quantum_circuits, self.shift)"
   ]
  },
  {
   "cell_type": "code",
   "execution_count": 61,
   "id": "54093e78",
   "metadata": {},
   "outputs": [],
   "source": [
    "class Net(nn.Module):\n",
    "    def __init__(self):\n",
    "        super(Net, self).__init__()\n",
    "        self.quanv = Quanv(nb_filters=1, kernel_size = 2) \n",
    "        self.conv = nn.Conv2d(1, 10, kernel_size=5)\n",
    "        self.dropout = nn.Dropout2d()\n",
    "        self.fc1 = nn.Linear(160, 64)\n",
    "        self.fc2 = nn.Linear(64, 10)\n",
    "\n",
    "    def forward(self, x):\n",
    "        x = self.quanv(x)\n",
    "        x = F.max_pool2d(x, 2)\n",
    "        x = F.relu(self.conv(x))\n",
    "        x = F.max_pool2d(x, 2)\n",
    "        x = self.dropout(x)\n",
    "        x = torch.flatten(x, start_dim=1)\n",
    "        x = F.relu(self.fc1(x))\n",
    "        x = self.fc2(x)\n",
    "        return F.log_softmax(x, dim=-1)\n",
    "model = Net()\n",
    "optimizer  = optim.Adam(model.parameters(), lr=0.001)\n",
    "loss_fn  = nn.CrossEntropyLoss()"
   ]
  },
  {
   "cell_type": "markdown",
   "id": "46e81623",
   "metadata": {},
   "source": [
    "## TRAINING & PERFORMANCE"
   ]
  },
  {
   "cell_type": "code",
   "execution_count": 62,
   "id": "55934539",
   "metadata": {},
   "outputs": [
    {
     "name": "stdout",
     "output_type": "stream",
     "text": [
      "train() called: model=Net, opt=Adam(lr=0.001000), epochs=30, device=cpu\n",
      "\n",
      "Epoch   1/ 30, train loss:  2.24, train acc:  0.19, val loss:  2.06, val acc:  0.38\n",
      "Epoch   2/ 30, train loss:  1.80, train acc:  0.44, val loss:  1.52, val acc:  0.60\n",
      "Epoch   3/ 30, train loss:  1.34, train acc:  0.60, val loss:  1.19, val acc:  0.68\n",
      "Epoch   4/ 30, train loss:  0.91, train acc:  0.72, val loss:  1.01, val acc:  0.67\n",
      "Epoch   5/ 30, train loss:  0.78, train acc:  0.78, val loss:  0.90, val acc:  0.70\n",
      "Epoch   6/ 30, train loss:  0.63, train acc:  0.80, val loss:  0.83, val acc:  0.74\n",
      "Epoch   7/ 30, train loss:  0.56, train acc:  0.86, val loss:  0.82, val acc:  0.72\n",
      "Epoch   8/ 30, train loss:  0.53, train acc:  0.85, val loss:  0.75, val acc:  0.76\n",
      "Epoch   9/ 30, train loss:  0.48, train acc:  0.86, val loss:  0.72, val acc:  0.77\n",
      "Epoch  10/ 30, train loss:  0.43, train acc:  0.88, val loss:  0.65, val acc:  0.79\n",
      "Epoch  11/ 30, train loss:  0.38, train acc:  0.88, val loss:  0.65, val acc:  0.80\n",
      "Epoch  12/ 30, train loss:  0.33, train acc:  0.91, val loss:  0.70, val acc:  0.79\n",
      "Epoch  13/ 30, train loss:  0.35, train acc:  0.89, val loss:  0.61, val acc:  0.81\n",
      "Epoch  14/ 30, train loss:  0.34, train acc:  0.89, val loss:  0.71, val acc:  0.78\n",
      "Epoch  15/ 30, train loss:  0.32, train acc:  0.90, val loss:  0.64, val acc:  0.81\n",
      "Epoch  16/ 30, train loss:  0.23, train acc:  0.93, val loss:  0.68, val acc:  0.80\n",
      "Epoch  17/ 30, train loss:  0.22, train acc:  0.94, val loss:  0.75, val acc:  0.78\n",
      "Epoch  18/ 30, train loss:  0.21, train acc:  0.94, val loss:  0.67, val acc:  0.81\n",
      "Epoch  19/ 30, train loss:  0.22, train acc:  0.93, val loss:  0.66, val acc:  0.81\n",
      "Epoch  20/ 30, train loss:  0.24, train acc:  0.95, val loss:  0.66, val acc:  0.80\n",
      "Epoch  21/ 30, train loss:  0.24, train acc:  0.92, val loss:  0.63, val acc:  0.81\n",
      "Epoch  22/ 30, train loss:  0.19, train acc:  0.95, val loss:  0.66, val acc:  0.81\n",
      "Epoch  23/ 30, train loss:  0.14, train acc:  0.96, val loss:  0.62, val acc:  0.82\n",
      "Epoch  24/ 30, train loss:  0.22, train acc:  0.94, val loss:  0.63, val acc:  0.81\n",
      "Epoch  25/ 30, train loss:  0.15, train acc:  0.95, val loss:  0.67, val acc:  0.82\n",
      "Epoch  26/ 30, train loss:  0.14, train acc:  0.95, val loss:  0.64, val acc:  0.82\n",
      "Epoch  27/ 30, train loss:  0.16, train acc:  0.95, val loss:  0.68, val acc:  0.82\n",
      "Epoch  28/ 30, train loss:  0.15, train acc:  0.95, val loss:  0.83, val acc:  0.80\n",
      "Epoch  29/ 30, train loss:  0.15, train acc:  0.95, val loss:  0.68, val acc:  0.82\n",
      "Epoch  30/ 30, train loss:  0.14, train acc:  0.96, val loss:  0.71, val acc:  0.80\n",
      "\n",
      "Time total:     3682.24 sec\n",
      "Time per epoch: 122.74 sec\n"
     ]
    }
   ],
   "source": [
    "history = train(\n",
    "    model = model,\n",
    "    optimizer = optimizer,\n",
    "    loss_fn = loss_fn,\n",
    "    train_dl = train_loader,\n",
    "    val_dl = test_loader,\n",
    "    epochs=30)"
   ]
  },
  {
   "cell_type": "code",
   "execution_count": 63,
   "id": "38e2c7cf",
   "metadata": {},
   "outputs": [
    {
     "data": {
      "image/png": "[encoded data removed]",
      "text/plain": [
       "<Figure size 432x288 with 1 Axes>"
      ]
     },
     "metadata": {
      "needs_background": "light"
     },
     "output_type": "display_data"
    },
    {
     "data": {
      "image/png": "[encoded data removed]",
      "text/plain": [
       "<Figure size 432x288 with 1 Axes>"
      ]
     },
     "metadata": {
      "needs_background": "light"
     },
     "output_type": "display_data"
    }
   ],
   "source": [
    "import matplotlib.pyplot as plt\n",
    "\n",
    "acc = history['acc']\n",
    "val_acc = history['val_acc']\n",
    "loss = history['loss']\n",
    "val_loss = history['val_loss']\n",
    "epochs = range(1, len(acc) + 1)\n",
    "\n",
    "plt.plot(epochs, acc, 'b', label='Training acc')\n",
    "plt.plot(epochs, val_acc, 'r', label='Test acc')\n",
    "plt.title('Training and Test accuracy')\n",
    "plt.legend()\n",
    "plt.figure()\n",
    "plt.plot(epochs, loss, 'b', label='Training loss')\n",
    "plt.plot(epochs, val_loss, 'r', label='Test loss')\n",
    "plt.title('Training and Test loss')\n",
    "plt.legend()\n",
    "plt.show()"
   ]
  },
  {
   "cell_type": "markdown",
   "id": "197fbc4c",
   "metadata": {},
   "source": [
    "## CLASSICAL FILTER vs QUANTUM FILTER"
   ]
  },
  {
   "cell_type": "code",
   "execution_count": 64,
   "id": "0f1f5315",
   "metadata": {},
   "outputs": [
    {
     "data": {
      "image/png": "[encoded data removed]",
      "text/plain": [
       "<Figure size 432x288 with 1 Axes>"
      ]
     },
     "metadata": {
      "needs_background": "light"
     },
     "output_type": "display_data"
    }
   ],
   "source": [
    "import matplotlib.pyplot as plt\n",
    "\n",
    "acc1 = history1['val_acc']\n",
    "acc2 = history['val_acc']\n",
    "\n",
    "epochs = range(1, len(acc) + 1)\n",
    "\n",
    "plt.plot(epochs, acc1, 'b', label='Classical filter')\n",
    "plt.plot(epochs, acc2, 'g', label='Quantum trainable filter')\n",
    "plt.title('Test accuracy')\n",
    "plt.legend()\n",
    "plt.show()"
   ]
  },
  {
   "cell_type": "code",
   "execution_count": null,
   "id": "06ef213b",
   "metadata": {},
   "outputs": [],
   "source": []
  }
 ],
 "metadata": {
  "kernelspec": {
   "display_name": "Python 3 (ipykernel)",
   "language": "python",
   "name": "python3"
  },
  "language_info": {
   "codemirror_mode": {
    "name": "ipython",
    "version": 3
   },
   "file_extension": ".py",
   "mimetype": "text/x-python",
   "name": "python",
   "nbconvert_exporter": "python",
   "pygments_lexer": "ipython3",
   "version": "3.8.10"
  }
 },
 "nbformat": 4,
 "nbformat_minor": 5
}
